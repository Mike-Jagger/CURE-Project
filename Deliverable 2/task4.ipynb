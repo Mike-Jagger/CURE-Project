{
 "cells": [
  {
   "cell_type": "code",
   "execution_count": 1,
   "metadata": {},
   "outputs": [
    {
     "name": "stdout",
     "output_type": "stream",
     "text": [
      "   Number of Legs  Body Weight (kg)    Class\n",
      "0               4              50.0  Mammals\n",
      "1               4              20.0  Mammals\n",
      "2               4              30.0  Mammals\n",
      "3               4              60.0  Mammals\n",
      "4               4              80.0  Mammals\n",
      "5               2               1.0    Birds\n",
      "6               2               2.0    Birds\n",
      "7               2               0.5    Birds\n",
      "8               2               0.8    Birds\n",
      "9               2               1.5    Birds\n"
     ]
    }
   ],
   "source": [
    "import pandas as pd\n",
    "\n",
    "# Create a dictionary with your data\n",
    "data = {\n",
    "    'Number of Legs': [4, 4, 4, 4, 4, 2, 2, 2, 2, 2],\n",
    "    'Body Weight (kg)': [50, 20, 30, 60, 80, 1, 2, 0.5, 0.8, 1.5],\n",
    "    'Class': ['Mammals', 'Mammals', 'Mammals', 'Mammals', 'Mammals', 'Birds', 'Birds', 'Birds', 'Birds', 'Birds']\n",
    "}\n",
    "\n",
    "# Create a DataFrame\n",
    "df = pd.DataFrame(data)\n",
    "\n",
    "# Print the DataFrame\n",
    "print(df)"
   ]
  }
 ],
 "metadata": {
  "kernelspec": {
   "display_name": "Python 3",
   "language": "python",
   "name": "python3"
  },
  "language_info": {
   "codemirror_mode": {
    "name": "ipython",
    "version": 3
   },
   "file_extension": ".py",
   "mimetype": "text/x-python",
   "name": "python",
   "nbconvert_exporter": "python",
   "pygments_lexer": "ipython3",
   "version": "3.11.6"
  }
 },
 "nbformat": 4,
 "nbformat_minor": 2
}
