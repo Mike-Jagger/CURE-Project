{
 "cells": [
  {
   "cell_type": "markdown",
   "metadata": {},
   "source": [
    "### TASK 1"
   ]
  },
  {
   "cell_type": "markdown",
   "metadata": {},
   "source": [
    "### Extracting data from excel into a dataframe"
   ]
  },
  {
   "cell_type": "code",
   "execution_count": 900,
   "metadata": {},
   "outputs": [
    {
     "data": {
      "text/html": [
       "<div>\n",
       "<style scoped>\n",
       "    .dataframe tbody tr th:only-of-type {\n",
       "        vertical-align: middle;\n",
       "    }\n",
       "\n",
       "    .dataframe tbody tr th {\n",
       "        vertical-align: top;\n",
       "    }\n",
       "\n",
       "    .dataframe thead th {\n",
       "        text-align: right;\n",
       "    }\n",
       "</style>\n",
       "<table border=\"1\" class=\"dataframe\">\n",
       "  <thead>\n",
       "    <tr style=\"text-align: right;\">\n",
       "      <th></th>\n",
       "      <th>Car Make</th>\n",
       "      <th>Price (USD)</th>\n",
       "      <th>Horsepower (hp)</th>\n",
       "      <th>Top Speed (mph)</th>\n",
       "      <th>Category (class)</th>\n",
       "    </tr>\n",
       "  </thead>\n",
       "  <tbody>\n",
       "    <tr>\n",
       "      <th>0</th>\n",
       "      <td>Nissan Micra</td>\n",
       "      <td>17000</td>\n",
       "      <td>109</td>\n",
       "      <td>115</td>\n",
       "      <td>Overseas</td>\n",
       "    </tr>\n",
       "    <tr>\n",
       "      <th>1</th>\n",
       "      <td>Nissan Sentra</td>\n",
       "      <td>23000</td>\n",
       "      <td>149</td>\n",
       "      <td>120</td>\n",
       "      <td>Overseas</td>\n",
       "    </tr>\n",
       "    <tr>\n",
       "      <th>2</th>\n",
       "      <td>Nissan 370Z</td>\n",
       "      <td>30000</td>\n",
       "      <td>332</td>\n",
       "      <td>160</td>\n",
       "      <td>Overseas</td>\n",
       "    </tr>\n",
       "    <tr>\n",
       "      <th>3</th>\n",
       "      <td>Nissan GT-R</td>\n",
       "      <td>210740</td>\n",
       "      <td>600</td>\n",
       "      <td>205</td>\n",
       "      <td>Overseas</td>\n",
       "    </tr>\n",
       "    <tr>\n",
       "      <th>4</th>\n",
       "      <td>Infiniti Q50</td>\n",
       "      <td>53500</td>\n",
       "      <td>400</td>\n",
       "      <td>155</td>\n",
       "      <td>Overseas</td>\n",
       "    </tr>\n",
       "    <tr>\n",
       "      <th>...</th>\n",
       "      <td>...</td>\n",
       "      <td>...</td>\n",
       "      <td>...</td>\n",
       "      <td>...</td>\n",
       "      <td>...</td>\n",
       "    </tr>\n",
       "    <tr>\n",
       "      <th>96</th>\n",
       "      <td>Kia Niro</td>\n",
       "      <td>24690</td>\n",
       "      <td>139</td>\n",
       "      <td>105</td>\n",
       "      <td>Overseas</td>\n",
       "    </tr>\n",
       "    <tr>\n",
       "      <th>97</th>\n",
       "      <td>Kia Sedona</td>\n",
       "      <td>42000</td>\n",
       "      <td>276</td>\n",
       "      <td>130</td>\n",
       "      <td>Overseas</td>\n",
       "    </tr>\n",
       "    <tr>\n",
       "      <th>98</th>\n",
       "      <td>Acura TLX</td>\n",
       "      <td>50000</td>\n",
       "      <td>355</td>\n",
       "      <td>155</td>\n",
       "      <td>Overseas</td>\n",
       "    </tr>\n",
       "    <tr>\n",
       "      <th>99</th>\n",
       "      <td>Jeep patriot</td>\n",
       "      <td>28000</td>\n",
       "      <td>172</td>\n",
       "      <td>115</td>\n",
       "      <td>American</td>\n",
       "    </tr>\n",
       "    <tr>\n",
       "      <th>100</th>\n",
       "      <td>Chrysler 300</td>\n",
       "      <td>50000</td>\n",
       "      <td>363</td>\n",
       "      <td>140</td>\n",
       "      <td>American</td>\n",
       "    </tr>\n",
       "  </tbody>\n",
       "</table>\n",
       "<p>101 rows × 5 columns</p>\n",
       "</div>"
      ],
      "text/plain": [
       "          Car Make  Price (USD)  Horsepower (hp)  Top Speed (mph)  \\\n",
       "0     Nissan Micra        17000              109              115   \n",
       "1    Nissan Sentra        23000              149              120   \n",
       "2      Nissan 370Z        30000              332              160   \n",
       "3      Nissan GT-R       210740              600              205   \n",
       "4     Infiniti Q50        53500              400              155   \n",
       "..             ...          ...              ...              ...   \n",
       "96        Kia Niro        24690              139              105   \n",
       "97      Kia Sedona        42000              276              130   \n",
       "98       Acura TLX        50000              355              155   \n",
       "99    Jeep patriot        28000              172              115   \n",
       "100   Chrysler 300        50000              363              140   \n",
       "\n",
       "    Category (class)  \n",
       "0           Overseas  \n",
       "1           Overseas  \n",
       "2           Overseas  \n",
       "3           Overseas  \n",
       "4           Overseas  \n",
       "..               ...  \n",
       "96          Overseas  \n",
       "97          Overseas  \n",
       "98          Overseas  \n",
       "99          American  \n",
       "100         American  \n",
       "\n",
       "[101 rows x 5 columns]"
      ]
     },
     "execution_count": 900,
     "metadata": {},
     "output_type": "execute_result"
    }
   ],
   "source": [
    "import pandas as pd\n",
    "\n",
    "df = pd.read_excel(\"Vehicle_Data.xlsx\")\n",
    "df"
   ]
  },
  {
   "cell_type": "markdown",
   "metadata": {},
   "source": [
    "### Encode car_make to have just the first Brand/Manufacturer as numbers using Labelencoder()"
   ]
  },
  {
   "cell_type": "code",
   "execution_count": 901,
   "metadata": {},
   "outputs": [
    {
     "data": {
      "text/plain": [
       "Car Make           4\n",
       "Price (USD)    22050\n",
       "Name: 71, dtype: object"
      ]
     },
     "execution_count": 901,
     "metadata": {},
     "output_type": "execute_result"
    }
   ],
   "source": [
    "import pandas as pd\n",
    "from sklearn import preprocessing\n",
    "\n",
    "# Assuming 'car_make' is a column in your DataFrame\n",
    "car_make = df.iloc[:, 0]\n",
    "\n",
    "# Define a function to extract the first word\n",
    "def extract_first_word(text):\n",
    "    word = text.split(\" \")\n",
    "    return word[0]\n",
    "\n",
    "# Apply the function to modify the 'car_make' column\n",
    "car_make = car_make.apply(extract_first_word)\n",
    "\n",
    "# Define the label encoder\n",
    "le = preprocessing.LabelEncoder()\n",
    "\n",
    "# Transform the label into numbers\n",
    "car_make_encoded = le.fit_transform(car_make)\n",
    "\n",
    "# Assign the modified and encoded 'car_make' column back to the DataFrame\n",
    "df.iloc[:, 0] = car_make_encoded\n",
    "\n",
    "df.iloc[71, [0, 1]]\n"
   ]
  },
  {
   "cell_type": "code",
   "execution_count": 902,
   "metadata": {},
   "outputs": [
    {
     "data": {
      "text/html": [
       "<div>\n",
       "<style scoped>\n",
       "    .dataframe tbody tr th:only-of-type {\n",
       "        vertical-align: middle;\n",
       "    }\n",
       "\n",
       "    .dataframe tbody tr th {\n",
       "        vertical-align: top;\n",
       "    }\n",
       "\n",
       "    .dataframe thead th {\n",
       "        text-align: right;\n",
       "    }\n",
       "</style>\n",
       "<table border=\"1\" class=\"dataframe\">\n",
       "  <thead>\n",
       "    <tr style=\"text-align: right;\">\n",
       "      <th></th>\n",
       "      <th>Car Make</th>\n",
       "      <th>Price (USD)</th>\n",
       "      <th>Horsepower (hp)</th>\n",
       "      <th>Top Speed (mph)</th>\n",
       "      <th>Category (class)</th>\n",
       "    </tr>\n",
       "  </thead>\n",
       "  <tbody>\n",
       "    <tr>\n",
       "      <th>0</th>\n",
       "      <td>8</td>\n",
       "      <td>17000</td>\n",
       "      <td>109</td>\n",
       "      <td>115</td>\n",
       "      <td>Overseas</td>\n",
       "    </tr>\n",
       "    <tr>\n",
       "      <th>1</th>\n",
       "      <td>8</td>\n",
       "      <td>23000</td>\n",
       "      <td>149</td>\n",
       "      <td>120</td>\n",
       "      <td>Overseas</td>\n",
       "    </tr>\n",
       "    <tr>\n",
       "      <th>2</th>\n",
       "      <td>8</td>\n",
       "      <td>30000</td>\n",
       "      <td>332</td>\n",
       "      <td>160</td>\n",
       "      <td>Overseas</td>\n",
       "    </tr>\n",
       "    <tr>\n",
       "      <th>3</th>\n",
       "      <td>8</td>\n",
       "      <td>210740</td>\n",
       "      <td>600</td>\n",
       "      <td>205</td>\n",
       "      <td>Overseas</td>\n",
       "    </tr>\n",
       "    <tr>\n",
       "      <th>4</th>\n",
       "      <td>5</td>\n",
       "      <td>53500</td>\n",
       "      <td>400</td>\n",
       "      <td>155</td>\n",
       "      <td>Overseas</td>\n",
       "    </tr>\n",
       "    <tr>\n",
       "      <th>...</th>\n",
       "      <td>...</td>\n",
       "      <td>...</td>\n",
       "      <td>...</td>\n",
       "      <td>...</td>\n",
       "      <td>...</td>\n",
       "    </tr>\n",
       "    <tr>\n",
       "      <th>96</th>\n",
       "      <td>7</td>\n",
       "      <td>24690</td>\n",
       "      <td>139</td>\n",
       "      <td>105</td>\n",
       "      <td>Overseas</td>\n",
       "    </tr>\n",
       "    <tr>\n",
       "      <th>97</th>\n",
       "      <td>7</td>\n",
       "      <td>42000</td>\n",
       "      <td>276</td>\n",
       "      <td>130</td>\n",
       "      <td>Overseas</td>\n",
       "    </tr>\n",
       "    <tr>\n",
       "      <th>98</th>\n",
       "      <td>0</td>\n",
       "      <td>50000</td>\n",
       "      <td>355</td>\n",
       "      <td>155</td>\n",
       "      <td>Overseas</td>\n",
       "    </tr>\n",
       "    <tr>\n",
       "      <th>99</th>\n",
       "      <td>6</td>\n",
       "      <td>28000</td>\n",
       "      <td>172</td>\n",
       "      <td>115</td>\n",
       "      <td>American</td>\n",
       "    </tr>\n",
       "    <tr>\n",
       "      <th>100</th>\n",
       "      <td>2</td>\n",
       "      <td>50000</td>\n",
       "      <td>363</td>\n",
       "      <td>140</td>\n",
       "      <td>American</td>\n",
       "    </tr>\n",
       "  </tbody>\n",
       "</table>\n",
       "<p>101 rows × 5 columns</p>\n",
       "</div>"
      ],
      "text/plain": [
       "    Car Make  Price (USD)  Horsepower (hp)  Top Speed (mph) Category (class)\n",
       "0          8        17000              109              115         Overseas\n",
       "1          8        23000              149              120         Overseas\n",
       "2          8        30000              332              160         Overseas\n",
       "3          8       210740              600              205         Overseas\n",
       "4          5        53500              400              155         Overseas\n",
       "..       ...          ...              ...              ...              ...\n",
       "96         7        24690              139              105         Overseas\n",
       "97         7        42000              276              130         Overseas\n",
       "98         0        50000              355              155         Overseas\n",
       "99         6        28000              172              115         American\n",
       "100        2        50000              363              140         American\n",
       "\n",
       "[101 rows x 5 columns]"
      ]
     },
     "execution_count": 902,
     "metadata": {},
     "output_type": "execute_result"
    }
   ],
   "source": [
    "df"
   ]
  },
  {
   "cell_type": "markdown",
   "metadata": {},
   "source": [
    "### Knn classifier using MinMaxScaler() preprocessor"
   ]
  },
  {
   "cell_type": "code",
   "execution_count": 903,
   "metadata": {},
   "outputs": [
    {
     "data": {
      "text/plain": [
       "(    Car Make  Price (USD)  Horsepower (hp)  Top Speed (mph)\n",
       " 0          8        17000              109              115\n",
       " 1          8        23000              149              120\n",
       " 2          8        30000              332              160\n",
       " 3          8       210740              600              205\n",
       " 4          5        53500              400              155\n",
       " ..       ...          ...              ...              ...\n",
       " 96         7        24690              139              105\n",
       " 97         7        42000              276              130\n",
       " 98         0        50000              355              155\n",
       " 99         6        28000              172              115\n",
       " 100        2        50000              363              140\n",
       " \n",
       " [101 rows x 4 columns],\n",
       " 0      Overseas\n",
       " 1      Overseas\n",
       " 2      Overseas\n",
       " 3      Overseas\n",
       " 4      Overseas\n",
       "          ...   \n",
       " 96     Overseas\n",
       " 97     Overseas\n",
       " 98     Overseas\n",
       " 99     American\n",
       " 100    American\n",
       " Name: Category (class), Length: 101, dtype: object)"
      ]
     },
     "execution_count": 903,
     "metadata": {},
     "output_type": "execute_result"
    }
   ],
   "source": [
    "# Separate attributes and classes\n",
    "dfX = df.drop(columns=[\"Category (class)\"])\n",
    "sy = df.iloc[:, 4]\n",
    "dfX, sy"
   ]
  },
  {
   "cell_type": "code",
   "execution_count": 904,
   "metadata": {},
   "outputs": [
    {
     "data": {
      "text/plain": [
       "(92    Overseas\n",
       " 77    Overseas\n",
       " 24    American\n",
       " 31    American\n",
       " 26    American\n",
       "         ...   \n",
       " 65    Overseas\n",
       " 16    Overseas\n",
       " 6     Overseas\n",
       " 76    Overseas\n",
       " 46    American\n",
       " Name: Category (class), Length: 75, dtype: object,\n",
       " 50    American\n",
       " 70    Overseas\n",
       " 4     Overseas\n",
       " 33    American\n",
       " 7     Overseas\n",
       " 61    Overseas\n",
       " 20    American\n",
       " 19    American\n",
       " 49    American\n",
       " 59    Overseas\n",
       " 71    Overseas\n",
       " 98    Overseas\n",
       " 44    American\n",
       " 88    Overseas\n",
       " 8     Overseas\n",
       " 55    Overseas\n",
       " 63    Overseas\n",
       " 27    American\n",
       " 29    American\n",
       " 42    American\n",
       " 0     Overseas\n",
       " 64    Overseas\n",
       " 32    American\n",
       " 30    American\n",
       " 97    Overseas\n",
       " 35    American\n",
       " Name: Category (class), dtype: object)"
      ]
     },
     "execution_count": 904,
     "metadata": {},
     "output_type": "execute_result"
    }
   ],
   "source": [
    "# Separate data into test and train data\n",
    "from sklearn.model_selection import train_test_split\n",
    "X_train, X_test, y_train, y_test = train_test_split(dfX, sy)\n",
    "\n",
    "y_train, y_test"
   ]
  },
  {
   "cell_type": "code",
   "execution_count": 905,
   "metadata": {},
   "outputs": [
    {
     "data": {
      "text/plain": [
       "(92    Overseas\n",
       " 77    Overseas\n",
       " 24    American\n",
       " 31    American\n",
       " 26    American\n",
       "         ...   \n",
       " 65    Overseas\n",
       " 16    Overseas\n",
       " 6     Overseas\n",
       " 76    Overseas\n",
       " 46    American\n",
       " Name: Category (class), Length: 75, dtype: object,\n",
       " array([1, 1, 0, 0, 0, 1, 0, 1, 1, 0, 1, 0, 1, 1, 0, 0, 1, 1, 1, 1, 1, 1,\n",
       "        0, 0, 0, 1, 0, 0, 1, 1, 1, 0, 0, 1, 0, 1, 1, 1, 1, 0, 0, 0, 1, 1,\n",
       "        1, 1, 1, 0, 1, 1, 1, 0, 1, 1, 1, 1, 1, 1, 0, 1, 1, 1, 1, 0, 1, 1,\n",
       "        1, 0, 1, 1, 1, 1, 1, 1, 0]))"
      ]
     },
     "execution_count": 905,
     "metadata": {},
     "output_type": "execute_result"
    }
   ],
   "source": [
    "from sklearn import preprocessing\n",
    "\n",
    "## Transform categorical data into numbers\n",
    "# Define the label encoder\n",
    "le = preprocessing.LabelEncoder()\n",
    "lefitted = le.fit(y_train)\n",
    "\n",
    "# Transform the label into  numbers\n",
    "y_train_p = lefitted.transform(y_train)\n",
    "\n",
    "y_train, y_train_p"
   ]
  },
  {
   "cell_type": "code",
   "execution_count": 906,
   "metadata": {},
   "outputs": [
    {
     "data": {
      "text/plain": [
       "(   Car Make  Price (USD)  Horsepower (hp)  Top Speed (mph)\n",
       " 92        7        21990              146              120\n",
       " 77        3        19670              141              130\n",
       " 24        1        15000               98              105\n",
       " 31        1        73000              355              120\n",
       " 26        1        22000              153              130\n",
       " ..      ...          ...              ...              ...\n",
       " 65       10        24350              144              120\n",
       " 16        8        45830              400              120\n",
       " 6         8        36990              300              140\n",
       " 76        3        33400              212              110\n",
       " 46        9        16000              140              120\n",
       " \n",
       " [75 rows x 4 columns],\n",
       " array([[0.66666667, 0.04546374, 0.09561753, 0.19047619],\n",
       "        [0.22222222, 0.03373116, 0.08565737, 0.28571429],\n",
       "        [0.        , 0.01011429, 0.        , 0.04761905],\n",
       "        [0.        , 0.30342874, 0.51195219, 0.19047619],\n",
       "        [0.        , 0.04551431, 0.10956175, 0.28571429],\n",
       "        [0.66666667, 0.05911803, 0.08167331, 0.04761905],\n",
       "        [0.88888889, 0.07712147, 0.31474104, 0.38095238],\n",
       "        [1.        , 0.09608577, 0.24103586, 0.19047619],\n",
       "        [1.        , 0.08124305, 0.33864542, 0.28571429],\n",
       "        [0.        , 0.06068575, 0.11354582, 0.19047619],\n",
       "        [0.77777778, 0.16182866, 0.37051793, 0.23809524],\n",
       "        [0.88888889, 0.00675129, 0.01593625, 0.0952381 ],\n",
       "        [0.66666667, 0.16688581, 0.38446215, 0.28571429],\n",
       "        [0.77777778, 1.        , 1.        , 1.        ],\n",
       "        [0.        , 0.07585719, 0.35258964, 0.52380952],\n",
       "        [0.88888889, 0.08597148, 0.24103586, 0.28571429],\n",
       "        [0.22222222, 0.08460605, 0.3625498 , 0.23809524],\n",
       "        [0.77777778, 0.05057146, 0.10159363, 0.19047619],\n",
       "        [1.        , 0.04045717, 0.02390438, 0.        ],\n",
       "        [1.        , 0.00343886, 0.05577689, 0.14285714],\n",
       "        [0.22222222, 0.11530292, 0.30677291, 0.28571429],\n",
       "        [0.77777778, 0.08597148, 0.33266932, 0.14285714],\n",
       "        [0.        , 0.11631435, 0.30677291, 0.23809524],\n",
       "        [0.88888889, 0.03540002, 0.03984064, 0.19047619],\n",
       "        [0.        , 0.13654294, 0.4123506 , 0.38095238],\n",
       "        [0.22222222, 0.01613229, 0.06374502, 0.19047619],\n",
       "        [0.88888889, 0.05583089, 0.20517928, 0.14285714],\n",
       "        [0.88888889, 0.04470517, 0.40836653, 0.38095238],\n",
       "        [1.        , 0.06033175, 0.20318725, 0.38095238],\n",
       "        [0.77777778, 0.08597148, 0.46613546, 0.57142857],\n",
       "        [1.        , 0.2174067 , 0.56573705, 0.52380952],\n",
       "        [0.55555556, 0.07585719, 0.14741036, 0.14285714],\n",
       "        [0.        , 0.08091433, 0.40239044, 0.23809524],\n",
       "        [0.22222222, 0.09052291, 0.3625498 , 0.11428571],\n",
       "        [0.11111111, 0.18711439, 0.52788845, 0.38095238],\n",
       "        [0.22222222, 0.03003945, 0.11952191, 0.19047619],\n",
       "        [0.22222222, 0.11123192, 0.27689243, 0.46666667],\n",
       "        [1.        , 0.0556286 , 0.18326693, 0.28571429],\n",
       "        [0.22222222, 0.0960352 , 0.3625498 , 0.19047619],\n",
       "        [0.88888889, 0.03246688, 0.15737052, 0.21904762],\n",
       "        [0.        , 0.04551431, 0.11354582, 0.28571429],\n",
       "        [0.88888889, 0.01464044, 0.11354582, 0.19047619],\n",
       "        [1.        , 0.06270861, 0.12151394, 0.0952381 ],\n",
       "        [0.22222222, 0.10695863, 0.18326693, 0.26666667],\n",
       "        [0.77777778, 0.15677152, 0.32270916, 0.23809524],\n",
       "        [0.77777778, 0.07656519, 0.09760956, 0.05714286],\n",
       "        [0.66666667, 0.02472944, 0.09760956, 0.19047619],\n",
       "        [0.        , 0.26297158, 0.79083665, 0.81904762],\n",
       "        [0.22222222, 0.05259432, 0.04780876, 0.22857143],\n",
       "        [0.77777778, 0.12642864, 0.46215139, 0.19047619],\n",
       "        [1.        , 0.15320623, 0.34262948, 0.14285714],\n",
       "        [0.88888889, 0.09504905, 0.50199203, 0.57142857],\n",
       "        [0.77777778, 0.04045717, 0.04780876, 0.19047619],\n",
       "        [1.        , 0.        , 0.01593625, 0.0952381 ],\n",
       "        [0.66666667, 0.05057146, 0.18326693, 0.28571429],\n",
       "        [0.66666667, 0.0232123 , 0.09760956, 0.14285714],\n",
       "        [0.77777778, 0.08597148, 0.23306773, 0.33333333],\n",
       "        [0.66666667, 0.23718014, 0.53187251, 0.46666667],\n",
       "        [0.88888889, 0.08597148, 0.42231076, 0.57142857],\n",
       "        [0.77777778, 0.11176292, 0.16733068, 0.28571429],\n",
       "        [0.66666667, 0.08288662, 0.36454183, 0.14285714],\n",
       "        [0.22222222, 0.16177809, 0.3625498 , 0.28571429],\n",
       "        [1.        , 0.09163548, 0.42231076, 0.19047619],\n",
       "        [0.88888889, 0.05057146, 0.15338645, 0.28571429],\n",
       "        [0.77777778, 0.20228583, 0.58167331, 0.28571429],\n",
       "        [0.66666667, 0.10114291, 0.312749  , 0.28571429],\n",
       "        [0.66666667, 0.06574289, 0.28286853, 0.28571429],\n",
       "        [0.        , 0.05878932, 0.20517928, 0.19047619],\n",
       "        [0.66666667, 0.01542429, 0.0438247 , 0.0952381 ],\n",
       "        [0.22222222, 0.04971174, 0.10557769, 0.14285714],\n",
       "        [1.        , 0.0573986 , 0.09163347, 0.19047619],\n",
       "        [0.77777778, 0.16602609, 0.60159363, 0.19047619],\n",
       "        [0.77777778, 0.12132093, 0.40239044, 0.38095238],\n",
       "        [0.22222222, 0.10316577, 0.22709163, 0.0952381 ],\n",
       "        [0.88888889, 0.01517144, 0.08366534, 0.19047619]]))"
      ]
     },
     "execution_count": 906,
     "metadata": {},
     "output_type": "execute_result"
    }
   ],
   "source": [
    "## Using normalized attribute values\n",
    "# Define preprocessing tool\n",
    "nl = preprocessing.MinMaxScaler()\n",
    "\n",
    "#Fit the normalizer with attribute dataframe\n",
    "nlfitted = nl.fit(X_train.to_numpy())\n",
    "\n",
    "# Transform attribute dataframe into an array X with normalized values\n",
    "X_train_p = nlfitted.transform(X_train.to_numpy())\n",
    "\n",
    "X_train, X_train_p"
   ]
  },
  {
   "cell_type": "markdown",
   "metadata": {},
   "source": [
    "### Building the machine learning model for classification"
   ]
  },
  {
   "cell_type": "code",
   "execution_count": 907,
   "metadata": {},
   "outputs": [
    {
     "data": {
      "text/plain": [
       "(array([0, 1, 1, 0, 1, 1, 0, 0, 0, 1, 1, 0, 0, 1, 1, 1, 1, 0, 0, 0, 1, 1,\n",
       "        0, 0, 1, 0]),\n",
       " array([0, 1, 1, 0, 1, 1, 0, 0, 0, 1, 1, 1, 0, 1, 1, 1, 1, 0, 0, 0, 1, 1,\n",
       "        0, 0, 1, 0]))"
      ]
     },
     "execution_count": 907,
     "metadata": {},
     "output_type": "execute_result"
    }
   ],
   "source": [
    "# Import classifier\n",
    "from sklearn.neighbors import KNeighborsClassifier\n",
    "\n",
    "# Define the classifier\n",
    "knn = KNeighborsClassifier(n_neighbors=1)\n",
    "\n",
    "# Fit classifier using fit method\n",
    "knn = knn.fit(X_train_p, y_train_p)\n",
    "\n",
    "# Convert X_test and y_test to arrays\n",
    "ya_test = le.transform(y_test.to_numpy())\n",
    "Xa_test = nl.transform(X_test.to_numpy())\n",
    "\n",
    "# Predict classes of X_test and compare with y_test\n",
    "knn.predict(Xa_test), ya_test"
   ]
  },
  {
   "cell_type": "code",
   "execution_count": 908,
   "metadata": {},
   "outputs": [
    {
     "data": {
      "text/plain": [
       "(0.9615384615384616, 1.0)"
      ]
     },
     "execution_count": 908,
     "metadata": {},
     "output_type": "execute_result"
    }
   ],
   "source": [
    "# Fraction of instances correctly predicted\n",
    "# Test data and train data\n",
    "knn.score(Xa_test, ya_test), knn.score(X_train_p, y_train_p)"
   ]
  },
  {
   "cell_type": "markdown",
   "metadata": {},
   "source": [
    "### TASK 2 (A)"
   ]
  },
  {
   "cell_type": "markdown",
   "metadata": {},
   "source": [
    "### Comparing the values of k with the score (Using MinMaxScaler())"
   ]
  },
  {
   "cell_type": "code",
   "execution_count": 909,
   "metadata": {},
   "outputs": [],
   "source": [
    "# Import classifier\n",
    "from sklearn.neighbors import KNeighborsClassifier\n",
    "\n",
    "max_k = X_train.shape[0] #Max value of k\n",
    "k_vals = [] # Values of k\n",
    "score_train = [] # Scores for train dataset\n",
    "score_test = [] # Scores for test dataset\n",
    "\n",
    "for k in range(1, max_k+1):\n",
    "    # Define the classifier\n",
    "    knn = KNeighborsClassifier(n_neighbors=k)\n",
    "\n",
    "    # Fit classifier using fit method\n",
    "    knn = knn.fit(X_train_p, y_train_p)\n",
    "\n",
    "    # Convert X_test and y_test to arrays\n",
    "    ya_test = le.transform(y_test.to_numpy())\n",
    "    Xa_test = nl.transform(X_test.to_numpy())\n",
    "\n",
    "\n",
    "    # Add values of k and scores to thier respective lists\n",
    "    k_vals.append(k)\n",
    "    score_test.append(knn.score(Xa_test, ya_test))\n",
    "    score_train.append(knn.score(X_train_p, y_train_p))"
   ]
  },
  {
   "cell_type": "code",
   "execution_count": 910,
   "metadata": {},
   "outputs": [
    {
     "name": "stdout",
     "output_type": "stream",
     "text": [
      "[1, 2, 3, 4, 5, 6, 7, 8, 9, 10, 11, 12, 13, 14, 15, 16, 17, 18, 19, 20, 21, 22, 23, 24, 25, 26, 27, 28, 29, 30, 31, 32, 33, 34, 35, 36, 37, 38, 39, 40, 41, 42, 43, 44, 45, 46, 47, 48, 49, 50, 51, 52, 53, 54, 55, 56, 57, 58, 59, 60, 61, 62, 63, 64, 65, 66, 67, 68, 69, 70, 71, 72, 73, 74, 75]\n",
      "[1.0, 0.96, 0.9466666666666667, 0.92, 0.96, 0.9333333333333333, 0.96, 0.9333333333333333, 0.92, 0.8933333333333333, 0.8266666666666667, 0.7866666666666666, 0.8266666666666667, 0.8266666666666667, 0.7066666666666667, 0.7866666666666666, 0.7466666666666667, 0.7733333333333333, 0.76, 0.76, 0.68, 0.6933333333333334, 0.6666666666666666, 0.6666666666666666, 0.6666666666666666, 0.6933333333333334, 0.6666666666666666, 0.6666666666666666, 0.6666666666666666, 0.6666666666666666, 0.6666666666666666, 0.6666666666666666, 0.6666666666666666, 0.6666666666666666, 0.6666666666666666, 0.6666666666666666, 0.6666666666666666, 0.6666666666666666, 0.6666666666666666, 0.6666666666666666, 0.6666666666666666, 0.6666666666666666, 0.6666666666666666, 0.6666666666666666, 0.6666666666666666, 0.6666666666666666, 0.6666666666666666, 0.6666666666666666, 0.6666666666666666, 0.6666666666666666, 0.6666666666666666, 0.6666666666666666, 0.6666666666666666, 0.6666666666666666, 0.6666666666666666, 0.6666666666666666, 0.6666666666666666, 0.6666666666666666, 0.6666666666666666, 0.6666666666666666, 0.6666666666666666, 0.6666666666666666, 0.6666666666666666, 0.6666666666666666, 0.6666666666666666, 0.6666666666666666, 0.6666666666666666, 0.6666666666666666, 0.6666666666666666, 0.6666666666666666, 0.6666666666666666, 0.6666666666666666, 0.6666666666666666, 0.6666666666666666, 0.6666666666666666]\n",
      "[0.9615384615384616, 0.9230769230769231, 0.9615384615384616, 0.9230769230769231, 0.9615384615384616, 0.9615384615384616, 0.9230769230769231, 0.9230769230769231, 0.8846153846153846, 0.8846153846153846, 0.8461538461538461, 0.8076923076923077, 0.7692307692307693, 0.8461538461538461, 0.7307692307692307, 0.7692307692307693, 0.6538461538461539, 0.6538461538461539, 0.6153846153846154, 0.6538461538461539, 0.5769230769230769, 0.5769230769230769, 0.5384615384615384, 0.5384615384615384, 0.5384615384615384, 0.5769230769230769, 0.5384615384615384, 0.5384615384615384, 0.5384615384615384, 0.5384615384615384, 0.5384615384615384, 0.5384615384615384, 0.5384615384615384, 0.5384615384615384, 0.5384615384615384, 0.5384615384615384, 0.5384615384615384, 0.5384615384615384, 0.5384615384615384, 0.5384615384615384, 0.5384615384615384, 0.5384615384615384, 0.5384615384615384, 0.5384615384615384, 0.5384615384615384, 0.5384615384615384, 0.5384615384615384, 0.5384615384615384, 0.5384615384615384, 0.5384615384615384, 0.5384615384615384, 0.5384615384615384, 0.5384615384615384, 0.5384615384615384, 0.5384615384615384, 0.5384615384615384, 0.5384615384615384, 0.5384615384615384, 0.5384615384615384, 0.5384615384615384, 0.5384615384615384, 0.5384615384615384, 0.5384615384615384, 0.5384615384615384, 0.5384615384615384, 0.5384615384615384, 0.5384615384615384, 0.5384615384615384, 0.5384615384615384, 0.5384615384615384, 0.5384615384615384, 0.5384615384615384, 0.5384615384615384, 0.5384615384615384, 0.5384615384615384]\n"
     ]
    }
   ],
   "source": [
    "print(k_vals)\n",
    "print(score_train)\n",
    "print(score_test)"
   ]
  },
  {
   "cell_type": "code",
   "execution_count": 911,
   "metadata": {},
   "outputs": [
    {
     "data": {
      "image/png": "[encoded data removed]",
      "text/plain": [
       "<Figure size 640x480 with 1 Axes>"
      ]
     },
     "metadata": {},
     "output_type": "display_data"
    }
   ],
   "source": [
    "import matplotlib.pyplot as plt\n",
    "fig, ax = plt.subplots()\n",
    "\n",
    "## Draw scatter plot\n",
    "ax.scatter(k_vals, score_train, c='b', marker='.', s=20, label=\"Trial\")\n",
    "ax.scatter(k_vals, score_test, c='r', marker='.', s=20, label=\"Test\")\n",
    "\n",
    "plt.title(\"Performance Comparison of Model Accuracy with Varying k Values \\n(MinMaxScaler)\", y = -0.25)\n",
    "plt.xlabel(\"k\")\n",
    "plt.ylabel(\"Score\")\n",
    "plt.legend()\n",
    "plt.show()"
   ]
  },
  {
   "cell_type": "markdown",
   "metadata": {},
   "source": [
    "### TASK 2 (B)"
   ]
  },
  {
   "cell_type": "markdown",
   "metadata": {},
   "source": [
    "### Comparing the values of k with the score (Using StandardScaler())"
   ]
  },
  {
   "cell_type": "code",
   "execution_count": 891,
   "metadata": {},
   "outputs": [
    {
     "data": {
      "text/plain": [
       "(   Car Make  Price (USD)  Horsepower (hp)  Top Speed (mph)\n",
       " 6         8        36990              300              140\n",
       " 56       10        21000              110              100\n",
       " 87        7        17590              147              115\n",
       " 7         8        18340              122              120\n",
       " 80        3        30900              280              112\n",
       " ..      ...          ...              ...              ...\n",
       " 47        9        19420              177              123\n",
       " 30        1        50000              420              140\n",
       " 2         8        30000              332              160\n",
       " 85        7        17890              147              120\n",
       " 8         8        30000              175              125\n",
       " \n",
       " [75 rows x 4 columns],\n",
       " array([[ 4.42621574e-01,  1.29168184e-01,  5.96084055e-01,\n",
       "          6.16277687e-01],\n",
       "        [ 1.05173383e+00, -5.53533203e-01, -1.41485292e+00,\n",
       "         -1.53352820e+00],\n",
       "        [ 1.38065445e-01, -6.99124931e-01, -1.02324940e+00,\n",
       "         -7.27350991e-01],\n",
       "        [ 4.42621574e-01, -6.67103290e-01, -1.28784637e+00,\n",
       "         -4.58625255e-01],\n",
       "        [-1.08015907e+00, -1.30847541e-01,  3.84406479e-01,\n",
       "         -8.88586432e-01],\n",
       "        [ 1.05173383e+00, -2.09193823e-01,  2.57399933e-01,\n",
       "          7.88262158e-02],\n",
       "        [ 1.38065445e-01, -1.95317779e-01,  3.94990357e-01,\n",
       "         -7.27350991e-01],\n",
       "        [ 1.38065445e-01,  1.10732258e+00,  1.28403618e+00,\n",
       "          1.09998401e+00],\n",
       "        [ 1.05173383e+00, -4.25446639e-01, -5.68142615e-01,\n",
       "          7.88262158e-02],\n",
       "        [-1.08015907e+00, -4.51063952e-01, -1.28784637e+00,\n",
       "         -2.43644667e-01],\n",
       "        [ 4.42621574e-01, -1.69273511e-01,  2.25648296e-01,\n",
       "         -7.27350991e-01],\n",
       "        [ 4.42621574e-01,  4.28463789e-01,  1.72728902e-01,\n",
       "         -1.89899520e-01],\n",
       "        [ 7.47177703e-01, -1.69273511e-01,  8.60681025e-01,\n",
       "          1.69118063e+00],\n",
       "        [-1.66490684e-01, -2.54664553e-01, -7.58652433e-01,\n",
       "         -7.27350991e-01],\n",
       "        [-1.68927133e+00,  2.57681704e-01,  6.49003449e-01,\n",
       "          6.16277687e-01],\n",
       "        [-1.68927133e+00, -1.89852752e-02, -1.00208165e+00,\n",
       "         -1.53352820e+00],\n",
       "        [-1.68927133e+00,  4.71159311e-01,  6.80755085e-01,\n",
       "          1.42245489e+00],\n",
       "        [-1.68927133e+00, -8.09706332e-01, -1.54185947e+00,\n",
       "         -1.26480246e+00],\n",
       "        [ 1.05173383e+00,  2.97388539e-01,  7.01922843e-01,\n",
       "         -7.27350991e-01],\n",
       "        [ 7.47177703e-01, -4.68142161e-01, -7.26900797e-01,\n",
       "          7.88262158e-02],\n",
       "        [ 7.47177703e-01, -2.43990673e-01,  1.30393387e-01,\n",
       "          6.16277687e-01],\n",
       "        [ 1.05173383e+00,  1.50857509e-03,  5.53748540e-01,\n",
       "         -7.27350991e-01],\n",
       "        [ 1.38065445e-01, -7.64876034e-01, -1.30901413e+00,\n",
       "         -9.96076726e-01],\n",
       "        [ 1.05173383e+00, -8.38824678e-02, -2.61210129e-01,\n",
       "         -4.58625255e-01],\n",
       "        [-1.68927133e+00,  8.68996179e-02,  8.80578717e-02,\n",
       "         -1.89899520e-01],\n",
       "        [ 1.38065445e-01, -4.11869463e-02,  1.19809508e-01,\n",
       "          7.88262158e-02],\n",
       "        [ 1.05173383e+00, -3.85739804e-01, -4.62303827e-01,\n",
       "          6.16277687e-01],\n",
       "        [ 4.42621574e-01,  7.54751503e+00,  3.77124770e+00,\n",
       "          4.10971225e+00],\n",
       "        [ 1.05173383e+00,  3.98363447e-01,  2.78567690e-01,\n",
       "         -7.27350991e-01],\n",
       "        [ 4.42621574e-01,  4.71159311e-01,  4.26741994e-01,\n",
       "         -1.89899520e-01],\n",
       "        [ 7.47177703e-01, -9.26350496e-02,  1.12527800e+00,\n",
       "          1.69118063e+00],\n",
       "        [ 7.47177703e-01, -1.69273511e-01,  7.01922843e-01,\n",
       "          1.69118063e+00],\n",
       "        [-1.08015907e+00,  4.39906189e-02, -7.07003105e-02,\n",
       "          1.09998401e+00],\n",
       "        [ 7.47177703e-01, -7.71493840e-01, -9.38578373e-01,\n",
       "         -4.58625255e-01],\n",
       "        [-1.08015907e+00, -6.41485978e-01, -9.06826737e-01,\n",
       "         -4.58625255e-01],\n",
       "        [ 1.05173383e+00,  1.04178495e+00, -9.80913889e-01,\n",
       "         -9.42331579e-01],\n",
       "        [ 1.05173383e+00, -1.21454527e-01,  7.01922843e-01,\n",
       "         -4.58625255e-01],\n",
       "        [-1.68927133e+00, -3.98761938e-01, -4.51719948e-01,\n",
       "         -4.58625255e-01],\n",
       "        [ 1.05173383e+00, -3.65672909e-01, -8.96242858e-01,\n",
       "         -9.96076726e-01],\n",
       "        [ 1.05173383e+00, -3.15804540e-02,  2.57399933e-01,\n",
       "          7.88262158e-02],\n",
       "        [-1.68927133e+00, -2.11969032e-01,  5.96084055e-01,\n",
       "         -1.89899520e-01],\n",
       "        [ 7.47177703e-01, -3.30022149e-01, -6.21062009e-01,\n",
       "         -9.96076726e-01],\n",
       "        [ 1.38065445e-01, -3.40055596e-01, -3.89486740e-02,\n",
       "          7.88262158e-02],\n",
       "        [ 4.42621574e-01, -5.53533203e-01, -1.28784637e+00,\n",
       "         -4.58625255e-01],\n",
       "        [ 4.42621574e-01, -4.68142161e-01, -1.00208165e+00,\n",
       "         -4.58625255e-01],\n",
       "        [ 1.38065445e-01,  1.65886333e-01,  4.90245267e-01,\n",
       "          6.16277687e-01],\n",
       "        [ 1.05173383e+00, -4.10503207e-01, -1.05500104e+00,\n",
       "         -4.58625255e-01],\n",
       "        [ 1.05173383e+00, -8.95097375e-01, -1.45718844e+00,\n",
       "         -9.96076726e-01],\n",
       "        [-1.68927133e+00, -1.69273511e-01,  4.37325873e-01,\n",
       "         -1.53352820e+00],\n",
       "        [ 4.42621574e-01,  4.84736487e-02, -6.52813645e-01,\n",
       "          7.88262158e-02],\n",
       "        [ 7.47177703e-01, -1.69273511e-01, -2.61210129e-01,\n",
       "          7.88262158e-02],\n",
       "        [ 1.38065445e-01,  5.13854832e-01,  5.00829145e-01,\n",
       "          7.88262158e-02],\n",
       "        [ 4.42621574e-01,  8.12723482e-01,  1.54863315e+00,\n",
       "          7.88262158e-02],\n",
       "        [ 4.42621574e-01,  1.72290661e-01,  9.13600419e-01,\n",
       "         -4.58625255e-01],\n",
       "        [-1.08015907e+00, -1.80801301e-01,  3.84406479e-01,\n",
       "         -1.89899520e-01],\n",
       "        [ 7.47177703e-01, -5.17668965e-01,  6.27835691e-01,\n",
       "          6.16277687e-01],\n",
       "        [-1.08015907e+00, -8.43094230e-02,  3.84406479e-01,\n",
       "         -4.58625255e-01],\n",
       "        [-1.99382746e+00,  6.84636918e-01,  1.17819739e+00,\n",
       "          1.42245489e+00],\n",
       "        [-1.68927133e+00,  1.32506974e+00,  2.65994042e+00,\n",
       "          3.08855445e+00],\n",
       "        [-1.68927133e+00, -5.10837682e-01, -9.38578373e-01,\n",
       "          7.88262158e-02],\n",
       "        [-1.68927133e+00, -5.10837682e-01, -9.59746131e-01,\n",
       "          7.88262158e-02],\n",
       "        [ 1.38065445e-01, -3.95986729e-01, -1.10792043e+00,\n",
       "         -1.26480246e+00],\n",
       "        [-4.71046813e-01,  8.34071243e-01,  1.65447194e+00,\n",
       "          1.42245489e+00],\n",
       "        [-1.08015907e+00,  7.91290330e-03, -5.68142615e-01,\n",
       "         -2.86640785e-02],\n",
       "        [ 1.05173383e+00,  1.31516438e-01,  2.78567690e-01,\n",
       "         -5.66115550e-01],\n",
       "        [-7.75602942e-01, -5.08702906e-01,  1.39707200e-02,\n",
       "          7.88262158e-02],\n",
       "        [ 1.05173383e+00,  9.40383091e-01,  1.46396212e+00,\n",
       "          1.42245489e+00],\n",
       "        [ 7.47177703e-01, -4.23738818e-01, -4.51719948e-01,\n",
       "         -7.27350991e-01],\n",
       "        [ 1.38065445e-01, -4.68142161e-01, -5.68142615e-01,\n",
       "          7.88262158e-02],\n",
       "        [-1.08015907e+00, -4.75400399e-01, -9.80913889e-01,\n",
       "         -7.27350991e-01],\n",
       "        [ 7.47177703e-01, -6.20992127e-01, -7.05733039e-01,\n",
       "         -2.97389814e-01],\n",
       "        [-1.68927133e+00,  6.84636918e-01,  1.86614951e+00,\n",
       "          6.16277687e-01],\n",
       "        [ 4.42621574e-01, -1.69273511e-01,  9.34768177e-01,\n",
       "          1.69118063e+00],\n",
       "        [ 1.38065445e-01, -6.86316275e-01, -1.02324940e+00,\n",
       "         -4.58625255e-01],\n",
       "        [ 4.42621574e-01, -1.69273511e-01, -7.26900797e-01,\n",
       "         -1.89899520e-01]]))"
      ]
     },
     "execution_count": 891,
     "metadata": {},
     "output_type": "execute_result"
    }
   ],
   "source": [
    "## Using standardized attribute values\n",
    "# Define preprocessing tool\n",
    "stand = preprocessing.StandardScaler()\n",
    "\n",
    "#Fit the standardizer with attribute dataframe\n",
    "standfitted = stand.fit(X_train.to_numpy())\n",
    "\n",
    "# Transform attribute dataframe into an array X with standardized values\n",
    "X_train_p = standfitted.transform(X_train.to_numpy())\n",
    "\n",
    "X_train, X_train_p"
   ]
  },
  {
   "cell_type": "code",
   "execution_count": 892,
   "metadata": {},
   "outputs": [],
   "source": [
    "# Import classifier\n",
    "from sklearn.neighbors import KNeighborsClassifier\n",
    "\n",
    "max_k = X_train.shape[0] #Max value of k\n",
    "k_vals = [] # Values of k\n",
    "score_train = [] # Scores for train dataset\n",
    "score_test = [] # Scores for test dataset\n",
    "\n",
    "for k in range(1, max_k+1):\n",
    "    # Define the classifier\n",
    "    knn = KNeighborsClassifier(n_neighbors=k)\n",
    "\n",
    "    # Fit classifier using fit method\n",
    "    knn = knn.fit(X_train_p, y_train_p)\n",
    "\n",
    "    # Convert X_test and y_test to arrays\n",
    "    ya_test = le.transform(y_test.to_numpy())\n",
    "    Xa_test = stand.transform(X_test.to_numpy())\n",
    "\n",
    "\n",
    "    # Add values of k and scores to thier respective lists\n",
    "    k_vals.append(k)\n",
    "    score_test.append(knn.score(Xa_test, ya_test))\n",
    "    score_train.append(knn.score(X_train_p, y_train_p))"
   ]
  },
  {
   "cell_type": "code",
   "execution_count": 893,
   "metadata": {},
   "outputs": [
    {
     "name": "stdout",
     "output_type": "stream",
     "text": [
      "[1, 2, 3, 4, 5, 6, 7, 8, 9, 10, 11, 12, 13, 14, 15, 16, 17, 18, 19, 20, 21, 22, 23, 24, 25, 26, 27, 28, 29, 30, 31, 32, 33, 34, 35, 36, 37, 38, 39, 40, 41, 42, 43, 44, 45, 46, 47, 48, 49, 50, 51, 52, 53, 54, 55, 56, 57, 58, 59, 60, 61, 62, 63, 64, 65, 66, 67, 68, 69, 70, 71, 72, 73, 74, 75]\n",
      "[1.0, 0.8933333333333333, 0.88, 0.8133333333333334, 0.8533333333333334, 0.8266666666666667, 0.8533333333333334, 0.84, 0.7333333333333333, 0.7866666666666666, 0.7066666666666667, 0.7333333333333333, 0.7333333333333333, 0.7333333333333333, 0.7066666666666667, 0.7866666666666666, 0.72, 0.7733333333333333, 0.7066666666666667, 0.72, 0.68, 0.68, 0.68, 0.68, 0.68, 0.68, 0.68, 0.68, 0.68, 0.68, 0.68, 0.68, 0.68, 0.68, 0.68, 0.68, 0.68, 0.68, 0.68, 0.68, 0.68, 0.68, 0.68, 0.68, 0.68, 0.68, 0.68, 0.68, 0.68, 0.68, 0.68, 0.68, 0.68, 0.68, 0.68, 0.68, 0.68, 0.68, 0.68, 0.68, 0.68, 0.68, 0.68, 0.68, 0.68, 0.68, 0.68, 0.68, 0.68, 0.68, 0.68, 0.68, 0.68, 0.68, 0.68]\n",
      "[0.8461538461538461, 0.8076923076923077, 0.8461538461538461, 0.8076923076923077, 0.8076923076923077, 0.7692307692307693, 0.6923076923076923, 0.8076923076923077, 0.7307692307692307, 0.7692307692307693, 0.7307692307692307, 0.7307692307692307, 0.5769230769230769, 0.6923076923076923, 0.5769230769230769, 0.6923076923076923, 0.5769230769230769, 0.6153846153846154, 0.5, 0.5, 0.5, 0.5, 0.5, 0.5, 0.5, 0.5, 0.5, 0.5, 0.5, 0.5, 0.5, 0.5, 0.5, 0.5, 0.5, 0.5, 0.5, 0.5, 0.5, 0.5, 0.5, 0.5, 0.5, 0.5, 0.5, 0.5, 0.5, 0.5, 0.5, 0.5, 0.5, 0.5, 0.5, 0.5, 0.5, 0.5, 0.5, 0.5, 0.5, 0.5, 0.5, 0.5, 0.5, 0.5, 0.5, 0.5, 0.5, 0.5, 0.5, 0.5, 0.5, 0.5, 0.5, 0.5, 0.5]\n"
     ]
    }
   ],
   "source": [
    "print(k_vals)\n",
    "print(score_train)\n",
    "print(score_test)"
   ]
  },
  {
   "cell_type": "code",
   "execution_count": 894,
   "metadata": {},
   "outputs": [
    {
     "data": {
      "image/png": "[encoded data removed]",
      "text/plain": [
       "<Figure size 640x480 with 1 Axes>"
      ]
     },
     "metadata": {},
     "output_type": "display_data"
    }
   ],
   "source": [
    "import matplotlib.pyplot as plt\n",
    "fig, ax = plt.subplots()\n",
    "\n",
    "## Draw scatter plot\n",
    "ax.scatter(k_vals, score_train, c='b', marker='.', s=20, label=\"Trial\")\n",
    "ax.scatter(k_vals, score_test, c='r', marker='.', s=20, label=\"Test\")\n",
    "\n",
    "plt.title(\"Performance Comparison of Model Accuracy with Varying k Values \\n(StandardScaler)\", y = -0.25)\n",
    "plt.xlabel(\"k\")\n",
    "plt.ylabel(\"Score\")\n",
    "plt.legend()\n",
    "plt.show()"
   ]
  },
  {
   "cell_type": "markdown",
   "metadata": {},
   "source": [
    "### TASK 3(a)"
   ]
  },
  {
   "cell_type": "markdown",
   "metadata": {},
   "source": [
    "### Selected k value is 3 and preferred preprocessor is MinMaxSelector()"
   ]
  },
  {
   "cell_type": "code",
   "execution_count": 919,
   "metadata": {},
   "outputs": [
    {
     "data": {
      "text/plain": [
       "(array([0, 1, 1, 0, 1, 1, 0, 0, 0, 1, 1, 0, 0, 1, 1, 1, 1, 0, 0, 0, 1, 1,\n",
       "        0, 0, 1, 0]),\n",
       " array([0, 1, 1, 0, 1, 1, 0, 0, 0, 1, 1, 1, 0, 1, 1, 1, 1, 0, 0, 0, 1, 1,\n",
       "        0, 0, 1, 0]))"
      ]
     },
     "execution_count": 919,
     "metadata": {},
     "output_type": "execute_result"
    }
   ],
   "source": [
    "# Import classifier\n",
    "from sklearn.neighbors import KNeighborsClassifier\n",
    "\n",
    "# Define the classifier\n",
    "knn = KNeighborsClassifier(n_neighbors=3)\n",
    "\n",
    "# Fit classifier using fit method\n",
    "knn = knn.fit(X_train_p, y_train_p)\n",
    "\n",
    "# Convert X_test and y_test to arrays\n",
    "ya_test = le.transform(y_test.to_numpy())\n",
    "Xa_test = nl.transform(X_test.to_numpy())\n",
    "\n",
    "# Predict classes of X_test and compare with y_test\n",
    "knn.predict(Xa_test), ya_test"
   ]
  },
  {
   "cell_type": "code",
   "execution_count": 920,
   "metadata": {},
   "outputs": [
    {
     "data": {
      "text/plain": [
       "(0.9615384615384616, 0.9466666666666667)"
      ]
     },
     "execution_count": 920,
     "metadata": {},
     "output_type": "execute_result"
    }
   ],
   "source": [
    "# Fraction of instances correctly predicted\n",
    "# Test data and train data\n",
    "knn.score(Xa_test, ya_test), knn.score(X_train_p, y_train_p)"
   ]
  },
  {
   "cell_type": "markdown",
   "metadata": {},
   "source": [
    "### TASK 3(b)"
   ]
  },
  {
   "cell_type": "markdown",
   "metadata": {},
   "source": [
    "### Confusion matrix"
   ]
  },
  {
   "cell_type": "code",
   "execution_count": 921,
   "metadata": {},
   "outputs": [
    {
     "name": "stdout",
     "output_type": "stream",
     "text": [
      "Confusion Matrix:\n",
      "[[12  0]\n",
      " [ 1 13]]\n"
     ]
    }
   ],
   "source": [
    "from sklearn.metrics import confusion_matrix\n",
    "y_pred = knn.predict(Xa_test)\n",
    "\n",
    "# Create a confusion matrix\n",
    "cm = confusion_matrix(ya_test, y_pred)\n",
    "print(\"Confusion Matrix:\")\n",
    "print(cm)"
   ]
  },
  {
   "cell_type": "markdown",
   "metadata": {},
   "source": [
    "### TASK 4"
   ]
  },
  {
   "cell_type": "code",
   "execution_count": 922,
   "metadata": {},
   "outputs": [
    {
     "data": {
      "text/plain": [
       "array([[0.33333333, 0.04550925, 0.09760956, 0.38095238]])"
      ]
     },
     "execution_count": 922,
     "metadata": {},
     "output_type": "execute_result"
    }
   ],
   "source": [
    "import numpy as np\n",
    "new_car_make = np.array([[4, 21999, 147, 140]])\n",
    "X_new = nl.transform(new_car_make)\n",
    "X_new"
   ]
  },
  {
   "cell_type": "code",
   "execution_count": 923,
   "metadata": {},
   "outputs": [
    {
     "data": {
      "text/plain": [
       "array(['Overseas'], dtype=object)"
      ]
     },
     "execution_count": 923,
     "metadata": {},
     "output_type": "execute_result"
    }
   ],
   "source": [
    "le.inverse_transform(knn.predict(X_new))"
   ]
  }
 ],
 "metadata": {
  "kernelspec": {
   "display_name": "Python 3",
   "language": "python",
   "name": "python3"
  },
  "language_info": {
   "codemirror_mode": {
    "name": "ipython",
    "version": 3
   },
   "file_extension": ".py",
   "mimetype": "text/x-python",
   "name": "python",
   "nbconvert_exporter": "python",
   "pygments_lexer": "ipython3",
   "version": "3.11.6"
  }
 },
 "nbformat": 4,
 "nbformat_minor": 2
}
